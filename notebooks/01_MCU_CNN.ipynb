{
 "cells": [
  {
   "cell_type": "code",
   "execution_count": null,
   "metadata": {},
   "outputs": [],
   "source": [
    "# Classification model on a MCU NN Library"
   ]
  },
  {
   "cell_type": "code",
   "execution_count": 15,
   "metadata": {},
   "outputs": [],
   "source": [
    "from torchvision.datasets import CIFAR10\n",
    "from torch.utils.data import DataLoader\n",
    "from torch import nn\n",
    "import torch\n",
    "\n",
    "from nn_deployment_course.mcu.utils import transform_cifar10, sample_from_class, SimpleTrainer\n"
   ]
  },
  {
   "cell_type": "markdown",
   "metadata": {},
   "source": [
    "## Dataset\n",
    "\n",
    "First, we load the dataset and split it in training, validation, and test."
   ]
  },
  {
   "cell_type": "code",
   "execution_count": 16,
   "metadata": {},
   "outputs": [
    {
     "name": "stdout",
     "output_type": "stream",
     "text": [
      "Files already downloaded and verified\n",
      "Files already downloaded and verified\n"
     ]
    }
   ],
   "source": [
    "train_set = CIFAR10(\n",
    "    root=\"./data/data_cifar10/\",\n",
    "    train=True,\n",
    "    transform=transform_cifar10(),\n",
    "    download=True\n",
    "    )\n",
    "val_set, tr_set = sample_from_class(train_set, 500)\n",
    "test_set = CIFAR10(\n",
    "    root=\"./data/data_cifar10/\",\n",
    "    train=False,\n",
    "    transform=transform_cifar10(),\n",
    "    download=True\n",
    "    )"
   ]
  },
  {
   "cell_type": "markdown",
   "metadata": {},
   "source": [
    "Then we can build the dataloaders with batch size 8"
   ]
  },
  {
   "cell_type": "code",
   "execution_count": 17,
   "metadata": {},
   "outputs": [],
   "source": [
    "batch_size = 8\n",
    "datasets = [tr_set, val_set, test_set]\n",
    "dataloaders = {\n",
    "    i: DataLoader(\n",
    "        sett, batch_size=8, shuffle=True, num_workers=4\n",
    "    )\n",
    "    for i, sett in zip([\"train\", \"val\", \"test\"], datasets)\n",
    "}"
   ]
  },
  {
   "cell_type": "markdown",
   "metadata": {},
   "source": [
    "## Network"
   ]
  },
  {
   "cell_type": "markdown",
   "metadata": {},
   "source": [
    "We can now build our network"
   ]
  },
  {
   "cell_type": "code",
   "execution_count": 18,
   "metadata": {},
   "outputs": [],
   "source": [
    "class SampleCNN(nn.Module):\n",
    "    def __init__(self, shape=(3, 32, 32), batch_size=4):\n",
    "        super().__init__()\n",
    "        self.input_shape = shape\n",
    "        self.batch_size = batch_size\n",
    "\n",
    "        self.conv1 = nn.Conv2d(in_channels=shape[0], out_channels=64, kernel_size=3)\n",
    "        self.pool1 = nn.MaxPool2d(2)\n",
    "        self.relu1 = nn.ReLU()\n",
    "\n",
    "        self.conv2 = nn.Conv2d(in_channels=64, out_channels=32, kernel_size=3)\n",
    "        self.pool2 = nn.AvgPool2d(2)\n",
    "        self.relu2 = nn.ReLU()\n",
    "\n",
    "        self.conv3 = nn.Conv2d(in_channels=32, out_channels=16, kernel_size=3)\n",
    "        self.pool3 = nn.AvgPool2d(2)\n",
    "        self.relu3 = nn.ReLU()\n",
    "\n",
    "        self.flatten = nn.Flatten()\n",
    "        self.interface_shape = self.get_shape()\n",
    "        self.interface = nn.Linear(in_features=self.interface_shape.numel(), out_features=10)\n",
    "\n",
    "    def get_shape(self):\n",
    "        sample = torch.randn(size=(self.batch_size, *self.input_shape))\n",
    "        out = self.conv1(sample)\n",
    "        out = self.pool1(out)\n",
    "        out = self.relu1(out)\n",
    "        out = self.conv2(out)\n",
    "        out = self.pool2(out)\n",
    "        out = self.relu2(out)\n",
    "        out = self.conv3(out)\n",
    "        out = self.pool3(out)\n",
    "        out = self.relu3(out)\n",
    "        return out.shape[1:]\n",
    "\n",
    "    def forward(self, x):\n",
    "        out = self.conv1(x)\n",
    "        out = self.pool1(out)\n",
    "        out = self.relu1(out)\n",
    "        out = self.conv2(out)\n",
    "        out = self.pool2(out)\n",
    "        out = self.relu2(out)\n",
    "        out = self.conv3(out)\n",
    "        out = self.pool3(out)\n",
    "        out = self.relu3(out)\n",
    "        out = self.flatten(out)\n",
    "        return self.interface(out)\n"
   ]
  },
  {
   "cell_type": "markdown",
   "metadata": {},
   "source": [
    "Let's declare the network"
   ]
  },
  {
   "cell_type": "code",
   "execution_count": 20,
   "metadata": {},
   "outputs": [],
   "source": [
    "input_shape = (3, 32, 32)\n",
    "cnn = SampleCNN(shape=input_shape, batch_size=8)"
   ]
  },
  {
   "cell_type": "markdown",
   "metadata": {},
   "source": [
    "## Train\n",
    "\n",
    "Let's train, but before let's declare the trainer and the training hyperparameters"
   ]
  },
  {
   "cell_type": "code",
   "execution_count": 19,
   "metadata": {},
   "outputs": [],
   "source": [
    "trainer = SimpleTrainer(datasets=datasets, dataloaders=dataloaders)"
   ]
  },
  {
   "cell_type": "code",
   "execution_count": null,
   "metadata": {},
   "outputs": [],
   "source": [
    "hyperparam = {\n",
    "    \"learning_rate\": 0.001,\n",
    "    \"learning_step\": 5000,\n",
    "    \"learning_gamma\": 0.99,\n",
    "    \"epochs\": 20,\n",
    "}"
   ]
  },
  {
   "cell_type": "code",
   "execution_count": null,
   "metadata": {},
   "outputs": [],
   "source": [
    "cnn = trainer.train(cnn, config, config.get(\"name\"))"
   ]
  }
 ],
 "metadata": {
  "kernelspec": {
   "display_name": "Python 3.8.15 ('course')",
   "language": "python",
   "name": "python3"
  },
  "language_info": {
   "codemirror_mode": {
    "name": "ipython",
    "version": 3
   },
   "file_extension": ".py",
   "mimetype": "text/x-python",
   "name": "python",
   "nbconvert_exporter": "python",
   "pygments_lexer": "ipython3",
   "version": "3.8.15"
  },
  "orig_nbformat": 4,
  "vscode": {
   "interpreter": {
    "hash": "03295f4516bf5577f413a125e84959d67a4ab4350b23f979a91ef1ccf1ee10d6"
   }
  }
 },
 "nbformat": 4,
 "nbformat_minor": 2
}
